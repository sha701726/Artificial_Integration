{
 "cells": [
  {
   "cell_type": "code",
   "execution_count": 3,
   "metadata": {},
   "outputs": [],
   "source": [
    "from gemini_ai import get_gemini_response\n",
    "import pyautogui as py\n",
    "import pyperclip\n",
    "import time"
   ]
  },
  {
   "cell_type": "code",
   "execution_count": 4,
   "metadata": {},
   "outputs": [],
   "source": [
    "# Constants\n",
    "BREVE_CLICK_COORDS = (1318,1051)\n",
    "DRAG_START_COORDS = (695,810)\n",
    "DRAG_END_COORDS = (1879,895)"
   ]
  },
  {
   "cell_type": "code",
   "execution_count": 6,
   "metadata": {},
   "outputs": [],
   "source": [
    "def run():\n",
    "    time.sleep(2)\n",
    "    py.moveTo(*DRAG_START_COORDS)\n",
    "    time.sleep(2)\n",
    "    py.dragTo(*DRAG_END_COORDS,duration=2.0,button=\"left\")\n",
    "    py.hotkey('ctrl', 'c')\n",
    "    print(\"DATA IS COPYED == Checked!\")\n",
    "    time.sleep(1)\n",
    "    py.click(1847,881)\n",
    "    print(\"Done ----------------------------------------------------------------------->!!!!!\")\n",
    "    return pyperclip.paste()"
   ]
  },
  {
   "cell_type": "code",
   "execution_count": 8,
   "metadata": {},
   "outputs": [],
   "source": [
    "def write_in_file(new_data) :\n",
    "    try :\n",
    "        messages = new_data.split('\\n')\n",
    "        # print(\"write_in_file --------------------------- check!\")\n",
    "        print(len(messages))\n",
    "        if \"Digvijay BCA\" in messages[1] :\n",
    "            print(\"THE MESSAGE: \",messages[1])\n",
    "            a = \"\"\n",
    "            for i in range(21,len(messages[1])) :\n",
    "                a += messages[1][i]\n",
    "            a += \"\\n\"\n",
    "            a = a.replace(\"Digvijay BCA\",\"User: \")\n",
    "            print(a)\n",
    "            py.click(995,960)\n",
    "            time.sleep(3)\n",
    "            response = get_gemini_response(a)\n",
    "            # print(\"\\n\\n\\n\\n response is: \",response)\n",
    "            pyperclip.copy(response)\n",
    "            time.sleep(1)\n",
    "            py.hotkey('ctrl', 'v')\n",
    "            print(\"DATA IS PASTED == Checked!\")\n",
    "            time.sleep(2)\n",
    "            py.click((1848,952))\n",
    "            print(\"DATA IS SENT SUCCESSFULLY.\")\n",
    "    except Exception as E :\n",
    "        print(f\"Error: {E}\")"
   ]
  },
  {
   "cell_type": "code",
   "execution_count": 9,
   "metadata": {},
   "outputs": [
    {
     "ename": "KeyboardInterrupt",
     "evalue": "",
     "output_type": "error",
     "traceback": [
      "\u001b[1;31m---------------------------------------------------------------------------\u001b[0m",
      "\u001b[1;31mKeyboardInterrupt\u001b[0m                         Traceback (most recent call last)",
      "Cell \u001b[1;32mIn[9], line 1\u001b[0m\n\u001b[1;32m----> 1\u001b[0m \u001b[43mtime\u001b[49m\u001b[38;5;241;43m.\u001b[39;49m\u001b[43msleep\u001b[49m\u001b[43m(\u001b[49m\u001b[38;5;241;43m5\u001b[39;49m\u001b[43m)\u001b[49m\n\u001b[0;32m      2\u001b[0m py\u001b[38;5;241m.\u001b[39mclick(\u001b[38;5;241m*\u001b[39mBREVE_CLICK_COORDS)\n\u001b[0;32m      3\u001b[0m \u001b[38;5;28mprint\u001b[39m(\u001b[38;5;124m\"\u001b[39m\u001b[38;5;124mBreve Clicked == Checked!\u001b[39m\u001b[38;5;124m\"\u001b[39m)\n",
      "\u001b[1;31mKeyboardInterrupt\u001b[0m: "
     ]
    }
   ],
   "source": [
    "time.sleep(5)\n",
    "py.click(*BREVE_CLICK_COORDS)\n",
    "print(\"Breve Clicked == Checked!\")\n",
    "\n",
    "while True :\n",
    "    honor = run()\n",
    "    print(honor)\n",
    "    write_in_file(honor)\n",
    "    time.sleep(5)"
   ]
  }
 ],
 "metadata": {
  "kernelspec": {
   "display_name": "Python 3",
   "language": "python",
   "name": "python3"
  },
  "language_info": {
   "codemirror_mode": {
    "name": "ipython",
    "version": 3
   },
   "file_extension": ".py",
   "mimetype": "text/x-python",
   "name": "python",
   "nbconvert_exporter": "python",
   "pygments_lexer": "ipython3",
   "version": "3.12.3"
  }
 },
 "nbformat": 4,
 "nbformat_minor": 2
}
